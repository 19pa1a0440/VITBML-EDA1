{
  "nbformat": 4,
  "nbformat_minor": 0,
  "metadata": {
    "colab": {
      "name": "FASTFOOD_DATA_ANALYSIS - AI ASSIGNMET 1.ipynb",
      "provenance": [],
      "collapsed_sections": [],
      "include_colab_link": true
    },
    "kernelspec": {
      "name": "python3",
      "display_name": "Python 3"
    }
  },
  "cells": [
    {
      "cell_type": "markdown",
      "metadata": {
        "id": "view-in-github",
        "colab_type": "text"
      },
      "source": [
        "<a href=\"https://colab.research.google.com/github/19pa1a0440/VITBML-EDA1/blob/master/FASTFOOD_DATA_ANALYSIS_AI_ASSIGNMET_1.ipynb\" target=\"_parent\"><img src=\"https://colab.research.google.com/assets/colab-badge.svg\" alt=\"Open In Colab\"/></a>"
      ]
    },
    {
      "cell_type": "markdown",
      "metadata": {
        "id": "6So46ydro6wk",
        "colab_type": "text"
      },
      "source": [
        "#**COLLABORATORS**\n",
        "\n",
        "#19PA1A0420 - B.UDAY SEKHAR RAJU\n",
        "#19PA1A0440 - D.THARUN KUMAR\n",
        "#19PA1A0410 - A.AJAY\n",
        "#19PA1A0428 - CH.VENKATA RAHUL\n",
        "\n",
        "# DATASET:https://docs.google.com/spreadsheets/d/1aWhEQn-qj4r7hCSQVU1_q61sh84fyUFS5gkjpORN6gA/edit#gid=1903298713"
      ]
    },
    {
      "cell_type": "markdown",
      "metadata": {
        "id": "5bbdVg2z1Qsc",
        "colab_type": "text"
      },
      "source": [
        "## **INTRODUCTION**"
      ]
    },
    {
      "cell_type": "markdown",
      "metadata": {
        "id": "vkt-ZBIH4cRP",
        "colab_type": "text"
      },
      "source": [
        "## **COLUMNS**\n",
        "**ID**  -It represents the unique ID of each type\n",
        "\n",
        "**DATEADDED**-It represents the date on which it was added\n",
        "\n",
        "**DATEUPDATED**-It represents the updated date on which it was updated\n",
        "\n",
        "**CATEGORY**- Describes the food type\n",
        "\n",
        "**CITY**- Place restaurant was located\n",
        "\n",
        "**COUNTRY**- Represents the country name\n",
        "\n",
        "**Name**- Describes the Restaurent name\n",
        "\n",
        "**Poastal Code**- Represents the code of the Restaurent Area\n",
        "\n",
        "**Province**- Represents the Division of the country\n",
        "\n",
        "**Average cost of two**- Represnts the Average cost\n",
        "\n",
        "**Votes**- No.of votes given to the Restaurent"
      ]
    },
    {
      "cell_type": "markdown",
      "metadata": {
        "id": "-RvZlYrRtOUK",
        "colab_type": "text"
      },
      "source": [
        "#**Questions**\n",
        "\n",
        "**1.Read the data.**\n",
        "\n",
        "**2.Check Data dimensions.**\n",
        "\n",
        "**3.Append the data frame.**\n",
        "\n",
        "**4.Get Central Tendency.**\n",
        "\n",
        "**5.Represent Histogram.**\n",
        "\n",
        "**6.Plot Box chart.**\n",
        "\n",
        "**7.Scatter plot.**\n",
        "\n",
        "**8.Drop Colomns and Rows.**"
      ]
    },
    {
      "cell_type": "markdown",
      "metadata": {
        "id": "HjRtNZop2q5t",
        "colab_type": "text"
      },
      "source": [
        "## **PANDAS DATAFRAME**"
      ]
    },
    {
      "cell_type": "code",
      "metadata": {
        "id": "PT6GP0y32r8a",
        "colab_type": "code",
        "colab": {}
      },
      "source": [
        "#import pandas\n",
        "import pandas as pd"
      ],
      "execution_count": 0,
      "outputs": []
    },
    {
      "cell_type": "markdown",
      "metadata": {
        "id": "r6ovdTB-2v4y",
        "colab_type": "text"
      },
      "source": [
        "## **READING DATA**"
      ]
    },
    {
      "cell_type": "code",
      "metadata": {
        "id": "VekttlNG2ydi",
        "colab_type": "code",
        "outputId": "727d99e7-ce30-4127-88aa-7ca5b96d5195",
        "colab": {
          "base_uri": "https://localhost:8080/",
          "height": 779
        }
      },
      "source": [
        "#READ DATA FROM CSV FILE\n",
        "foodie = pd.read_csv(\"fastfood.csv\")\n",
        "foodie"
      ],
      "execution_count": 0,
      "outputs": [
        {
          "output_type": "execute_result",
          "data": {
            "text/html": [
              "<div>\n",
              "<style scoped>\n",
              "    .dataframe tbody tr th:only-of-type {\n",
              "        vertical-align: middle;\n",
              "    }\n",
              "\n",
              "    .dataframe tbody tr th {\n",
              "        vertical-align: top;\n",
              "    }\n",
              "\n",
              "    .dataframe thead th {\n",
              "        text-align: right;\n",
              "    }\n",
              "</style>\n",
              "<table border=\"1\" class=\"dataframe\">\n",
              "  <thead>\n",
              "    <tr style=\"text-align: right;\">\n",
              "      <th></th>\n",
              "      <th>id</th>\n",
              "      <th>dateAdded</th>\n",
              "      <th>dateUpdated</th>\n",
              "      <th>address</th>\n",
              "      <th>categories</th>\n",
              "      <th>city</th>\n",
              "      <th>country</th>\n",
              "      <th>name</th>\n",
              "      <th>postalCode</th>\n",
              "      <th>province</th>\n",
              "      <th>Average Cost for two</th>\n",
              "      <th>Votes</th>\n",
              "    </tr>\n",
              "  </thead>\n",
              "  <tbody>\n",
              "    <tr>\n",
              "      <th>0</th>\n",
              "      <td>AVwcmSyZIN2L1WUfmxyw</td>\n",
              "      <td>2015-10-19T23:47:58Z</td>\n",
              "      <td>2018-06-26T03:00:14Z</td>\n",
              "      <td>800 N Canal Blvd</td>\n",
              "      <td>American Restaurant and Fast Food Restaurant</td>\n",
              "      <td>Thibodaux</td>\n",
              "      <td>US</td>\n",
              "      <td>SONIC Drive In</td>\n",
              "      <td>70301</td>\n",
              "      <td>LA</td>\n",
              "      <td>1100</td>\n",
              "      <td>314</td>\n",
              "    </tr>\n",
              "    <tr>\n",
              "      <th>1</th>\n",
              "      <td>AVwcmSyZIN2L1WUfmxyw</td>\n",
              "      <td>2015-10-19T23:47:58Z</td>\n",
              "      <td>2018-06-26T03:00:14Z</td>\n",
              "      <td>800 N Canal Blvd</td>\n",
              "      <td>Fast Food Restaurants</td>\n",
              "      <td>Thibodaux</td>\n",
              "      <td>US</td>\n",
              "      <td>SONIC Drive In</td>\n",
              "      <td>70301</td>\n",
              "      <td>LA</td>\n",
              "      <td>1200</td>\n",
              "      <td>591</td>\n",
              "    </tr>\n",
              "    <tr>\n",
              "      <th>2</th>\n",
              "      <td>AVwcopQoByjofQCxgfVa</td>\n",
              "      <td>2016-03-29T05:06:36Z</td>\n",
              "      <td>2018-06-26T02:59:52Z</td>\n",
              "      <td>206 Wears Valley Rd</td>\n",
              "      <td>Fast Food Restaurant</td>\n",
              "      <td>Pigeon Forge</td>\n",
              "      <td>US</td>\n",
              "      <td>Taco Bell</td>\n",
              "      <td>37863</td>\n",
              "      <td>TN</td>\n",
              "      <td>4000</td>\n",
              "      <td>270</td>\n",
              "    </tr>\n",
              "    <tr>\n",
              "      <th>3</th>\n",
              "      <td>AVweXN5RByjofQCxxilK</td>\n",
              "      <td>2017-01-03T07:46:11Z</td>\n",
              "      <td>2018-06-26T02:59:51Z</td>\n",
              "      <td>3652 Parkway</td>\n",
              "      <td>Fast Food</td>\n",
              "      <td>Pigeon Forge</td>\n",
              "      <td>US</td>\n",
              "      <td>Arby's</td>\n",
              "      <td>37863</td>\n",
              "      <td>TN</td>\n",
              "      <td>1500</td>\n",
              "      <td>365</td>\n",
              "    </tr>\n",
              "    <tr>\n",
              "      <th>4</th>\n",
              "      <td>AWQ6MUvo3-Khe5l_j3SG</td>\n",
              "      <td>2018-06-26T02:59:43Z</td>\n",
              "      <td>2018-06-26T02:59:43Z</td>\n",
              "      <td>2118 Mt Zion Parkway</td>\n",
              "      <td>Fast Food Restaurant</td>\n",
              "      <td>Morrow</td>\n",
              "      <td>US</td>\n",
              "      <td>Steak 'n Shake</td>\n",
              "      <td>30260</td>\n",
              "      <td>GA</td>\n",
              "      <td>1500</td>\n",
              "      <td>229</td>\n",
              "    </tr>\n",
              "    <tr>\n",
              "      <th>...</th>\n",
              "      <td>...</td>\n",
              "      <td>...</td>\n",
              "      <td>...</td>\n",
              "      <td>...</td>\n",
              "      <td>...</td>\n",
              "      <td>...</td>\n",
              "      <td>...</td>\n",
              "      <td>...</td>\n",
              "      <td>...</td>\n",
              "      <td>...</td>\n",
              "      <td>...</td>\n",
              "      <td>...</td>\n",
              "    </tr>\n",
              "    <tr>\n",
              "      <th>9995</th>\n",
              "      <td>AV12gJwna4HuVbed9Ayg</td>\n",
              "      <td>2017-07-24T21:28:46Z</td>\n",
              "      <td>2018-04-07T13:19:06Z</td>\n",
              "      <td>3460 Robinhood Rd</td>\n",
              "      <td>Fast Food Restaurants</td>\n",
              "      <td>Winston-Salem</td>\n",
              "      <td>US</td>\n",
              "      <td>Pizza Hut</td>\n",
              "      <td>27106</td>\n",
              "      <td>NC</td>\n",
              "      <td>524</td>\n",
              "      <td>5</td>\n",
              "    </tr>\n",
              "    <tr>\n",
              "      <th>9996</th>\n",
              "      <td>AV12gJxKIxWefVJwhpzS</td>\n",
              "      <td>2017-07-24T21:28:46Z</td>\n",
              "      <td>2018-04-07T13:19:05Z</td>\n",
              "      <td>3069 Kernersville Rd</td>\n",
              "      <td>Fast Food Restaurants</td>\n",
              "      <td>Winston-Salem</td>\n",
              "      <td>US</td>\n",
              "      <td>Pizza Hut</td>\n",
              "      <td>27107</td>\n",
              "      <td>NC</td>\n",
              "      <td>552</td>\n",
              "      <td>25</td>\n",
              "    </tr>\n",
              "    <tr>\n",
              "      <th>9997</th>\n",
              "      <td>AVwdJMdSByjofQCxl8Vr</td>\n",
              "      <td>2015-10-24T00:17:32Z</td>\n",
              "      <td>2018-04-07T13:19:05Z</td>\n",
              "      <td>838 S Main St</td>\n",
              "      <td>Fast Food Restaurants</td>\n",
              "      <td>Kernersville</td>\n",
              "      <td>US</td>\n",
              "      <td>Pizza Hut</td>\n",
              "      <td>27284</td>\n",
              "      <td>NC</td>\n",
              "      <td>542</td>\n",
              "      <td>13</td>\n",
              "    </tr>\n",
              "    <tr>\n",
              "      <th>9998</th>\n",
              "      <td>AVwdl2cykufWRAb57ZPs</td>\n",
              "      <td>2016-04-05T02:59:45Z</td>\n",
              "      <td>2018-04-07T13:19:05Z</td>\n",
              "      <td>1702 Glendale Dr SW</td>\n",
              "      <td>Fast Food Restaurants</td>\n",
              "      <td>Wilson</td>\n",
              "      <td>US</td>\n",
              "      <td>Pizza Hut</td>\n",
              "      <td>27893</td>\n",
              "      <td>NC</td>\n",
              "      <td>544</td>\n",
              "      <td>7</td>\n",
              "    </tr>\n",
              "    <tr>\n",
              "      <th>9999</th>\n",
              "      <td>AVwdecWKIN2L1WUfwMWU</td>\n",
              "      <td>2016-11-08T02:26:32Z</td>\n",
              "      <td>2018-04-07T13:19:05Z</td>\n",
              "      <td>1405 W Broad St</td>\n",
              "      <td>Fast Food Restaurants</td>\n",
              "      <td>Elizabethtown</td>\n",
              "      <td>US</td>\n",
              "      <td>Pizza Hut</td>\n",
              "      <td>28337</td>\n",
              "      <td>NC</td>\n",
              "      <td>799</td>\n",
              "      <td>8</td>\n",
              "    </tr>\n",
              "  </tbody>\n",
              "</table>\n",
              "<p>10000 rows × 12 columns</p>\n",
              "</div>"
            ],
            "text/plain": [
              "                        id             dateAdded  ... Average Cost for two Votes\n",
              "0     AVwcmSyZIN2L1WUfmxyw  2015-10-19T23:47:58Z  ...                 1100   314\n",
              "1     AVwcmSyZIN2L1WUfmxyw  2015-10-19T23:47:58Z  ...                 1200   591\n",
              "2     AVwcopQoByjofQCxgfVa  2016-03-29T05:06:36Z  ...                 4000   270\n",
              "3     AVweXN5RByjofQCxxilK  2017-01-03T07:46:11Z  ...                 1500   365\n",
              "4     AWQ6MUvo3-Khe5l_j3SG  2018-06-26T02:59:43Z  ...                 1500   229\n",
              "...                    ...                   ...  ...                  ...   ...\n",
              "9995  AV12gJwna4HuVbed9Ayg  2017-07-24T21:28:46Z  ...                  524     5\n",
              "9996  AV12gJxKIxWefVJwhpzS  2017-07-24T21:28:46Z  ...                  552    25\n",
              "9997  AVwdJMdSByjofQCxl8Vr  2015-10-24T00:17:32Z  ...                  542    13\n",
              "9998  AVwdl2cykufWRAb57ZPs  2016-04-05T02:59:45Z  ...                  544     7\n",
              "9999  AVwdecWKIN2L1WUfwMWU  2016-11-08T02:26:32Z  ...                  799     8\n",
              "\n",
              "[10000 rows x 12 columns]"
            ]
          },
          "metadata": {
            "tags": []
          },
          "execution_count": 2
        }
      ]
    },
    {
      "cell_type": "markdown",
      "metadata": {
        "id": "1HEs84qm4EXR",
        "colab_type": "text"
      },
      "source": [
        "## **Checking data dimensions**"
      ]
    },
    {
      "cell_type": "code",
      "metadata": {
        "id": "dq_GG3Rp4Fqc",
        "colab_type": "code",
        "outputId": "57830927-4b41-478c-807c-9c6632402cca",
        "colab": {
          "base_uri": "https://localhost:8080/",
          "height": 34
        }
      },
      "source": [
        "print(foodie.shape)"
      ],
      "execution_count": 0,
      "outputs": [
        {
          "output_type": "stream",
          "text": [
            "(10000, 12)\n"
          ],
          "name": "stdout"
        }
      ]
    },
    {
      "cell_type": "markdown",
      "metadata": {
        "id": "tGVgCj4uFMAD",
        "colab_type": "text"
      },
      "source": [
        "## **Appending DataFrame**"
      ]
    },
    {
      "cell_type": "code",
      "metadata": {
        "id": "UqTCNZsPFTyn",
        "colab_type": "code",
        "outputId": "cebd8ae9-d3f0-41ca-b28a-7742c02decd8",
        "colab": {
          "base_uri": "https://localhost:8080/",
          "height": 779
        }
      },
      "source": [
        "food1 = foodie.copy()             # Explicitly creating a copy of foodie. Just to make sure you don't modify your original data\n",
        "food1 = food1.append(foodie)\n",
        "foodie"
      ],
      "execution_count": 0,
      "outputs": [
        {
          "output_type": "execute_result",
          "data": {
            "text/html": [
              "<div>\n",
              "<style scoped>\n",
              "    .dataframe tbody tr th:only-of-type {\n",
              "        vertical-align: middle;\n",
              "    }\n",
              "\n",
              "    .dataframe tbody tr th {\n",
              "        vertical-align: top;\n",
              "    }\n",
              "\n",
              "    .dataframe thead th {\n",
              "        text-align: right;\n",
              "    }\n",
              "</style>\n",
              "<table border=\"1\" class=\"dataframe\">\n",
              "  <thead>\n",
              "    <tr style=\"text-align: right;\">\n",
              "      <th></th>\n",
              "      <th>id</th>\n",
              "      <th>dateAdded</th>\n",
              "      <th>dateUpdated</th>\n",
              "      <th>address</th>\n",
              "      <th>categories</th>\n",
              "      <th>city</th>\n",
              "      <th>country</th>\n",
              "      <th>name</th>\n",
              "      <th>postalCode</th>\n",
              "      <th>province</th>\n",
              "      <th>Average Cost for two</th>\n",
              "      <th>Votes</th>\n",
              "    </tr>\n",
              "  </thead>\n",
              "  <tbody>\n",
              "    <tr>\n",
              "      <th>0</th>\n",
              "      <td>AVwcmSyZIN2L1WUfmxyw</td>\n",
              "      <td>2015-10-19T23:47:58Z</td>\n",
              "      <td>2018-06-26T03:00:14Z</td>\n",
              "      <td>800 N Canal Blvd</td>\n",
              "      <td>American Restaurant and Fast Food Restaurant</td>\n",
              "      <td>Thibodaux</td>\n",
              "      <td>US</td>\n",
              "      <td>SONIC Drive In</td>\n",
              "      <td>70301</td>\n",
              "      <td>LA</td>\n",
              "      <td>1100</td>\n",
              "      <td>314</td>\n",
              "    </tr>\n",
              "    <tr>\n",
              "      <th>1</th>\n",
              "      <td>AVwcmSyZIN2L1WUfmxyw</td>\n",
              "      <td>2015-10-19T23:47:58Z</td>\n",
              "      <td>2018-06-26T03:00:14Z</td>\n",
              "      <td>800 N Canal Blvd</td>\n",
              "      <td>Fast Food Restaurants</td>\n",
              "      <td>Thibodaux</td>\n",
              "      <td>US</td>\n",
              "      <td>SONIC Drive In</td>\n",
              "      <td>70301</td>\n",
              "      <td>LA</td>\n",
              "      <td>1200</td>\n",
              "      <td>591</td>\n",
              "    </tr>\n",
              "    <tr>\n",
              "      <th>2</th>\n",
              "      <td>AVwcopQoByjofQCxgfVa</td>\n",
              "      <td>2016-03-29T05:06:36Z</td>\n",
              "      <td>2018-06-26T02:59:52Z</td>\n",
              "      <td>206 Wears Valley Rd</td>\n",
              "      <td>Fast Food Restaurant</td>\n",
              "      <td>Pigeon Forge</td>\n",
              "      <td>US</td>\n",
              "      <td>Taco Bell</td>\n",
              "      <td>37863</td>\n",
              "      <td>TN</td>\n",
              "      <td>4000</td>\n",
              "      <td>270</td>\n",
              "    </tr>\n",
              "    <tr>\n",
              "      <th>3</th>\n",
              "      <td>AVweXN5RByjofQCxxilK</td>\n",
              "      <td>2017-01-03T07:46:11Z</td>\n",
              "      <td>2018-06-26T02:59:51Z</td>\n",
              "      <td>3652 Parkway</td>\n",
              "      <td>Fast Food</td>\n",
              "      <td>Pigeon Forge</td>\n",
              "      <td>US</td>\n",
              "      <td>Arby's</td>\n",
              "      <td>37863</td>\n",
              "      <td>TN</td>\n",
              "      <td>1500</td>\n",
              "      <td>365</td>\n",
              "    </tr>\n",
              "    <tr>\n",
              "      <th>4</th>\n",
              "      <td>AWQ6MUvo3-Khe5l_j3SG</td>\n",
              "      <td>2018-06-26T02:59:43Z</td>\n",
              "      <td>2018-06-26T02:59:43Z</td>\n",
              "      <td>2118 Mt Zion Parkway</td>\n",
              "      <td>Fast Food Restaurant</td>\n",
              "      <td>Morrow</td>\n",
              "      <td>US</td>\n",
              "      <td>Steak 'n Shake</td>\n",
              "      <td>30260</td>\n",
              "      <td>GA</td>\n",
              "      <td>1500</td>\n",
              "      <td>229</td>\n",
              "    </tr>\n",
              "    <tr>\n",
              "      <th>...</th>\n",
              "      <td>...</td>\n",
              "      <td>...</td>\n",
              "      <td>...</td>\n",
              "      <td>...</td>\n",
              "      <td>...</td>\n",
              "      <td>...</td>\n",
              "      <td>...</td>\n",
              "      <td>...</td>\n",
              "      <td>...</td>\n",
              "      <td>...</td>\n",
              "      <td>...</td>\n",
              "      <td>...</td>\n",
              "    </tr>\n",
              "    <tr>\n",
              "      <th>9995</th>\n",
              "      <td>AV12gJwna4HuVbed9Ayg</td>\n",
              "      <td>2017-07-24T21:28:46Z</td>\n",
              "      <td>2018-04-07T13:19:06Z</td>\n",
              "      <td>3460 Robinhood Rd</td>\n",
              "      <td>Fast Food Restaurants</td>\n",
              "      <td>Winston-Salem</td>\n",
              "      <td>US</td>\n",
              "      <td>Pizza Hut</td>\n",
              "      <td>27106</td>\n",
              "      <td>NC</td>\n",
              "      <td>524</td>\n",
              "      <td>5</td>\n",
              "    </tr>\n",
              "    <tr>\n",
              "      <th>9996</th>\n",
              "      <td>AV12gJxKIxWefVJwhpzS</td>\n",
              "      <td>2017-07-24T21:28:46Z</td>\n",
              "      <td>2018-04-07T13:19:05Z</td>\n",
              "      <td>3069 Kernersville Rd</td>\n",
              "      <td>Fast Food Restaurants</td>\n",
              "      <td>Winston-Salem</td>\n",
              "      <td>US</td>\n",
              "      <td>Pizza Hut</td>\n",
              "      <td>27107</td>\n",
              "      <td>NC</td>\n",
              "      <td>552</td>\n",
              "      <td>25</td>\n",
              "    </tr>\n",
              "    <tr>\n",
              "      <th>9997</th>\n",
              "      <td>AVwdJMdSByjofQCxl8Vr</td>\n",
              "      <td>2015-10-24T00:17:32Z</td>\n",
              "      <td>2018-04-07T13:19:05Z</td>\n",
              "      <td>838 S Main St</td>\n",
              "      <td>Fast Food Restaurants</td>\n",
              "      <td>Kernersville</td>\n",
              "      <td>US</td>\n",
              "      <td>Pizza Hut</td>\n",
              "      <td>27284</td>\n",
              "      <td>NC</td>\n",
              "      <td>542</td>\n",
              "      <td>13</td>\n",
              "    </tr>\n",
              "    <tr>\n",
              "      <th>9998</th>\n",
              "      <td>AVwdl2cykufWRAb57ZPs</td>\n",
              "      <td>2016-04-05T02:59:45Z</td>\n",
              "      <td>2018-04-07T13:19:05Z</td>\n",
              "      <td>1702 Glendale Dr SW</td>\n",
              "      <td>Fast Food Restaurants</td>\n",
              "      <td>Wilson</td>\n",
              "      <td>US</td>\n",
              "      <td>Pizza Hut</td>\n",
              "      <td>27893</td>\n",
              "      <td>NC</td>\n",
              "      <td>544</td>\n",
              "      <td>7</td>\n",
              "    </tr>\n",
              "    <tr>\n",
              "      <th>9999</th>\n",
              "      <td>AVwdecWKIN2L1WUfwMWU</td>\n",
              "      <td>2016-11-08T02:26:32Z</td>\n",
              "      <td>2018-04-07T13:19:05Z</td>\n",
              "      <td>1405 W Broad St</td>\n",
              "      <td>Fast Food Restaurants</td>\n",
              "      <td>Elizabethtown</td>\n",
              "      <td>US</td>\n",
              "      <td>Pizza Hut</td>\n",
              "      <td>28337</td>\n",
              "      <td>NC</td>\n",
              "      <td>799</td>\n",
              "      <td>8</td>\n",
              "    </tr>\n",
              "  </tbody>\n",
              "</table>\n",
              "<p>10000 rows × 12 columns</p>\n",
              "</div>"
            ],
            "text/plain": [
              "                        id             dateAdded  ... Average Cost for two Votes\n",
              "0     AVwcmSyZIN2L1WUfmxyw  2015-10-19T23:47:58Z  ...                 1100   314\n",
              "1     AVwcmSyZIN2L1WUfmxyw  2015-10-19T23:47:58Z  ...                 1200   591\n",
              "2     AVwcopQoByjofQCxgfVa  2016-03-29T05:06:36Z  ...                 4000   270\n",
              "3     AVweXN5RByjofQCxxilK  2017-01-03T07:46:11Z  ...                 1500   365\n",
              "4     AWQ6MUvo3-Khe5l_j3SG  2018-06-26T02:59:43Z  ...                 1500   229\n",
              "...                    ...                   ...  ...                  ...   ...\n",
              "9995  AV12gJwna4HuVbed9Ayg  2017-07-24T21:28:46Z  ...                  524     5\n",
              "9996  AV12gJxKIxWefVJwhpzS  2017-07-24T21:28:46Z  ...                  552    25\n",
              "9997  AVwdJMdSByjofQCxl8Vr  2015-10-24T00:17:32Z  ...                  542    13\n",
              "9998  AVwdl2cykufWRAb57ZPs  2016-04-05T02:59:45Z  ...                  544     7\n",
              "9999  AVwdecWKIN2L1WUfwMWU  2016-11-08T02:26:32Z  ...                  799     8\n",
              "\n",
              "[10000 rows x 12 columns]"
            ]
          },
          "metadata": {
            "tags": []
          },
          "execution_count": 4
        }
      ]
    },
    {
      "cell_type": "markdown",
      "metadata": {
        "id": "3F5PP5UdFxWy",
        "colab_type": "text"
      },
      "source": [
        "## **Data Inspection**"
      ]
    },
    {
      "cell_type": "code",
      "metadata": {
        "id": "Q9lNB8EKFjq8",
        "colab_type": "code",
        "outputId": "ccb1cd9d-89ce-479a-c4f3-bf0a995f6784",
        "colab": {
          "base_uri": "https://localhost:8080/",
          "height": 34
        }
      },
      "source": [
        "## .shape gives dimentions of Data\n",
        "food1.shape"
      ],
      "execution_count": 0,
      "outputs": [
        {
          "output_type": "execute_result",
          "data": {
            "text/plain": [
              "(20000, 12)"
            ]
          },
          "metadata": {
            "tags": []
          },
          "execution_count": 5
        }
      ]
    },
    {
      "cell_type": "code",
      "metadata": {
        "id": "v498qGR-GIHP",
        "colab_type": "code",
        "outputId": "ae774993-35bb-4f6d-907d-bd4ef5372136",
        "colab": {
          "base_uri": "https://localhost:8080/",
          "height": 349
        }
      },
      "source": [
        "## Getting top 3 rows usig head method\n",
        "food1.head(3)"
      ],
      "execution_count": 0,
      "outputs": [
        {
          "output_type": "execute_result",
          "data": {
            "text/html": [
              "<div>\n",
              "<style scoped>\n",
              "    .dataframe tbody tr th:only-of-type {\n",
              "        vertical-align: middle;\n",
              "    }\n",
              "\n",
              "    .dataframe tbody tr th {\n",
              "        vertical-align: top;\n",
              "    }\n",
              "\n",
              "    .dataframe thead th {\n",
              "        text-align: right;\n",
              "    }\n",
              "</style>\n",
              "<table border=\"1\" class=\"dataframe\">\n",
              "  <thead>\n",
              "    <tr style=\"text-align: right;\">\n",
              "      <th></th>\n",
              "      <th>id</th>\n",
              "      <th>dateAdded</th>\n",
              "      <th>dateUpdated</th>\n",
              "      <th>address</th>\n",
              "      <th>categories</th>\n",
              "      <th>city</th>\n",
              "      <th>country</th>\n",
              "      <th>name</th>\n",
              "      <th>postalCode</th>\n",
              "      <th>province</th>\n",
              "      <th>Average Cost for two</th>\n",
              "      <th>Votes</th>\n",
              "    </tr>\n",
              "  </thead>\n",
              "  <tbody>\n",
              "    <tr>\n",
              "      <th>0</th>\n",
              "      <td>AVwcmSyZIN2L1WUfmxyw</td>\n",
              "      <td>2015-10-19T23:47:58Z</td>\n",
              "      <td>2018-06-26T03:00:14Z</td>\n",
              "      <td>800 N Canal Blvd</td>\n",
              "      <td>American Restaurant and Fast Food Restaurant</td>\n",
              "      <td>Thibodaux</td>\n",
              "      <td>US</td>\n",
              "      <td>SONIC Drive In</td>\n",
              "      <td>70301</td>\n",
              "      <td>LA</td>\n",
              "      <td>1100</td>\n",
              "      <td>314</td>\n",
              "    </tr>\n",
              "    <tr>\n",
              "      <th>1</th>\n",
              "      <td>AVwcmSyZIN2L1WUfmxyw</td>\n",
              "      <td>2015-10-19T23:47:58Z</td>\n",
              "      <td>2018-06-26T03:00:14Z</td>\n",
              "      <td>800 N Canal Blvd</td>\n",
              "      <td>Fast Food Restaurants</td>\n",
              "      <td>Thibodaux</td>\n",
              "      <td>US</td>\n",
              "      <td>SONIC Drive In</td>\n",
              "      <td>70301</td>\n",
              "      <td>LA</td>\n",
              "      <td>1200</td>\n",
              "      <td>591</td>\n",
              "    </tr>\n",
              "    <tr>\n",
              "      <th>2</th>\n",
              "      <td>AVwcopQoByjofQCxgfVa</td>\n",
              "      <td>2016-03-29T05:06:36Z</td>\n",
              "      <td>2018-06-26T02:59:52Z</td>\n",
              "      <td>206 Wears Valley Rd</td>\n",
              "      <td>Fast Food Restaurant</td>\n",
              "      <td>Pigeon Forge</td>\n",
              "      <td>US</td>\n",
              "      <td>Taco Bell</td>\n",
              "      <td>37863</td>\n",
              "      <td>TN</td>\n",
              "      <td>4000</td>\n",
              "      <td>270</td>\n",
              "    </tr>\n",
              "  </tbody>\n",
              "</table>\n",
              "</div>"
            ],
            "text/plain": [
              "                     id             dateAdded  ... Average Cost for two Votes\n",
              "0  AVwcmSyZIN2L1WUfmxyw  2015-10-19T23:47:58Z  ...                 1100   314\n",
              "1  AVwcmSyZIN2L1WUfmxyw  2015-10-19T23:47:58Z  ...                 1200   591\n",
              "2  AVwcopQoByjofQCxgfVa  2016-03-29T05:06:36Z  ...                 4000   270\n",
              "\n",
              "[3 rows x 12 columns]"
            ]
          },
          "metadata": {
            "tags": []
          },
          "execution_count": 6
        }
      ]
    },
    {
      "cell_type": "code",
      "metadata": {
        "id": "Aefiu_WxGQx3",
        "colab_type": "code",
        "outputId": "67a7b7c1-af5a-4a9d-aced-a8de9303180c",
        "colab": {
          "base_uri": "https://localhost:8080/",
          "height": 85
        }
      },
      "source": [
        "## .columns gives column names\n",
        "print(food1.columns) "
      ],
      "execution_count": 0,
      "outputs": [
        {
          "output_type": "stream",
          "text": [
            "Index(['id', 'dateAdded', 'dateUpdated', 'address', 'categories', 'city',\n",
            "       'country', 'name', 'postalCode', 'province', 'Average Cost for two',\n",
            "       'Votes'],\n",
            "      dtype='object')\n"
          ],
          "name": "stdout"
        }
      ]
    },
    {
      "cell_type": "code",
      "metadata": {
        "id": "qBPCWJNRGVFq",
        "colab_type": "code",
        "outputId": "0c64871b-65ae-4807-e933-c570521924e5",
        "colab": {
          "base_uri": "https://localhost:8080/",
          "height": 238
        }
      },
      "source": [
        "## .dtypes gives data types for each column\n",
        "print(food1.dtypes)"
      ],
      "execution_count": 0,
      "outputs": [
        {
          "output_type": "stream",
          "text": [
            "id                      object\n",
            "dateAdded               object\n",
            "dateUpdated             object\n",
            "address                 object\n",
            "categories              object\n",
            "city                    object\n",
            "country                 object\n",
            "name                    object\n",
            "postalCode              object\n",
            "province                object\n",
            "Average Cost for two     int64\n",
            "Votes                    int64\n",
            "dtype: object\n"
          ],
          "name": "stdout"
        }
      ]
    },
    {
      "cell_type": "markdown",
      "metadata": {
        "id": "ULWRanTEF7pP",
        "colab_type": "text"
      },
      "source": [
        "\n",
        "## **Seting match_id as row index** (rarely used)"
      ]
    },
    {
      "cell_type": "code",
      "metadata": {
        "id": "f_UHbLBPGa7J",
        "colab_type": "code",
        "outputId": "9c182b58-e174-49e6-a1a8-ebcf62e26ad6",
        "colab": {
          "base_uri": "https://localhost:8080/",
          "height": 380
        }
      },
      "source": [
        "food1.set_index(['id'],inplace=True)\n",
        "food1.head(3)"
      ],
      "execution_count": 0,
      "outputs": [
        {
          "output_type": "execute_result",
          "data": {
            "text/html": [
              "<div>\n",
              "<style scoped>\n",
              "    .dataframe tbody tr th:only-of-type {\n",
              "        vertical-align: middle;\n",
              "    }\n",
              "\n",
              "    .dataframe tbody tr th {\n",
              "        vertical-align: top;\n",
              "    }\n",
              "\n",
              "    .dataframe thead th {\n",
              "        text-align: right;\n",
              "    }\n",
              "</style>\n",
              "<table border=\"1\" class=\"dataframe\">\n",
              "  <thead>\n",
              "    <tr style=\"text-align: right;\">\n",
              "      <th></th>\n",
              "      <th>dateAdded</th>\n",
              "      <th>dateUpdated</th>\n",
              "      <th>address</th>\n",
              "      <th>categories</th>\n",
              "      <th>city</th>\n",
              "      <th>country</th>\n",
              "      <th>name</th>\n",
              "      <th>postalCode</th>\n",
              "      <th>province</th>\n",
              "      <th>Average Cost for two</th>\n",
              "      <th>Votes</th>\n",
              "    </tr>\n",
              "    <tr>\n",
              "      <th>id</th>\n",
              "      <th></th>\n",
              "      <th></th>\n",
              "      <th></th>\n",
              "      <th></th>\n",
              "      <th></th>\n",
              "      <th></th>\n",
              "      <th></th>\n",
              "      <th></th>\n",
              "      <th></th>\n",
              "      <th></th>\n",
              "      <th></th>\n",
              "    </tr>\n",
              "  </thead>\n",
              "  <tbody>\n",
              "    <tr>\n",
              "      <th>AVwcmSyZIN2L1WUfmxyw</th>\n",
              "      <td>2015-10-19T23:47:58Z</td>\n",
              "      <td>2018-06-26T03:00:14Z</td>\n",
              "      <td>800 N Canal Blvd</td>\n",
              "      <td>American Restaurant and Fast Food Restaurant</td>\n",
              "      <td>Thibodaux</td>\n",
              "      <td>US</td>\n",
              "      <td>SONIC Drive In</td>\n",
              "      <td>70301</td>\n",
              "      <td>LA</td>\n",
              "      <td>1100</td>\n",
              "      <td>314</td>\n",
              "    </tr>\n",
              "    <tr>\n",
              "      <th>AVwcmSyZIN2L1WUfmxyw</th>\n",
              "      <td>2015-10-19T23:47:58Z</td>\n",
              "      <td>2018-06-26T03:00:14Z</td>\n",
              "      <td>800 N Canal Blvd</td>\n",
              "      <td>Fast Food Restaurants</td>\n",
              "      <td>Thibodaux</td>\n",
              "      <td>US</td>\n",
              "      <td>SONIC Drive In</td>\n",
              "      <td>70301</td>\n",
              "      <td>LA</td>\n",
              "      <td>1200</td>\n",
              "      <td>591</td>\n",
              "    </tr>\n",
              "    <tr>\n",
              "      <th>AVwcopQoByjofQCxgfVa</th>\n",
              "      <td>2016-03-29T05:06:36Z</td>\n",
              "      <td>2018-06-26T02:59:52Z</td>\n",
              "      <td>206 Wears Valley Rd</td>\n",
              "      <td>Fast Food Restaurant</td>\n",
              "      <td>Pigeon Forge</td>\n",
              "      <td>US</td>\n",
              "      <td>Taco Bell</td>\n",
              "      <td>37863</td>\n",
              "      <td>TN</td>\n",
              "      <td>4000</td>\n",
              "      <td>270</td>\n",
              "    </tr>\n",
              "  </tbody>\n",
              "</table>\n",
              "</div>"
            ],
            "text/plain": [
              "                                 dateAdded  ... Votes\n",
              "id                                          ...      \n",
              "AVwcmSyZIN2L1WUfmxyw  2015-10-19T23:47:58Z  ...   314\n",
              "AVwcmSyZIN2L1WUfmxyw  2015-10-19T23:47:58Z  ...   591\n",
              "AVwcopQoByjofQCxgfVa  2016-03-29T05:06:36Z  ...   270\n",
              "\n",
              "[3 rows x 11 columns]"
            ]
          },
          "metadata": {
            "tags": []
          },
          "execution_count": 9
        }
      ]
    },
    {
      "cell_type": "markdown",
      "metadata": {
        "id": "4UB6E6N4HKfb",
        "colab_type": "text"
      },
      "source": [
        "## **Dropping columns**"
      ]
    },
    {
      "cell_type": "code",
      "metadata": {
        "id": "JQkXYMR6HLx9",
        "colab_type": "code",
        "outputId": "cd48910b-7546-48ed-e1e3-cedb8479e554",
        "colab": {
          "base_uri": "https://localhost:8080/",
          "height": 346
        }
      },
      "source": [
        "# Dropping Column\n",
        "food1.drop(['address'], axis=1, inplace=True)    # Axis = 1 for columns\n",
        "food1.head(3)"
      ],
      "execution_count": 0,
      "outputs": [
        {
          "output_type": "execute_result",
          "data": {
            "text/html": [
              "<div>\n",
              "<style scoped>\n",
              "    .dataframe tbody tr th:only-of-type {\n",
              "        vertical-align: middle;\n",
              "    }\n",
              "\n",
              "    .dataframe tbody tr th {\n",
              "        vertical-align: top;\n",
              "    }\n",
              "\n",
              "    .dataframe thead th {\n",
              "        text-align: right;\n",
              "    }\n",
              "</style>\n",
              "<table border=\"1\" class=\"dataframe\">\n",
              "  <thead>\n",
              "    <tr style=\"text-align: right;\">\n",
              "      <th></th>\n",
              "      <th>dateAdded</th>\n",
              "      <th>dateUpdated</th>\n",
              "      <th>categories</th>\n",
              "      <th>city</th>\n",
              "      <th>country</th>\n",
              "      <th>name</th>\n",
              "      <th>postalCode</th>\n",
              "      <th>province</th>\n",
              "      <th>Average Cost for two</th>\n",
              "      <th>Votes</th>\n",
              "    </tr>\n",
              "    <tr>\n",
              "      <th>id</th>\n",
              "      <th></th>\n",
              "      <th></th>\n",
              "      <th></th>\n",
              "      <th></th>\n",
              "      <th></th>\n",
              "      <th></th>\n",
              "      <th></th>\n",
              "      <th></th>\n",
              "      <th></th>\n",
              "      <th></th>\n",
              "    </tr>\n",
              "  </thead>\n",
              "  <tbody>\n",
              "    <tr>\n",
              "      <th>AVwcmSyZIN2L1WUfmxyw</th>\n",
              "      <td>2015-10-19T23:47:58Z</td>\n",
              "      <td>2018-06-26T03:00:14Z</td>\n",
              "      <td>American Restaurant and Fast Food Restaurant</td>\n",
              "      <td>Thibodaux</td>\n",
              "      <td>US</td>\n",
              "      <td>SONIC Drive In</td>\n",
              "      <td>70301</td>\n",
              "      <td>LA</td>\n",
              "      <td>1100</td>\n",
              "      <td>314</td>\n",
              "    </tr>\n",
              "    <tr>\n",
              "      <th>AVwcmSyZIN2L1WUfmxyw</th>\n",
              "      <td>2015-10-19T23:47:58Z</td>\n",
              "      <td>2018-06-26T03:00:14Z</td>\n",
              "      <td>Fast Food Restaurants</td>\n",
              "      <td>Thibodaux</td>\n",
              "      <td>US</td>\n",
              "      <td>SONIC Drive In</td>\n",
              "      <td>70301</td>\n",
              "      <td>LA</td>\n",
              "      <td>1200</td>\n",
              "      <td>591</td>\n",
              "    </tr>\n",
              "    <tr>\n",
              "      <th>AVwcopQoByjofQCxgfVa</th>\n",
              "      <td>2016-03-29T05:06:36Z</td>\n",
              "      <td>2018-06-26T02:59:52Z</td>\n",
              "      <td>Fast Food Restaurant</td>\n",
              "      <td>Pigeon Forge</td>\n",
              "      <td>US</td>\n",
              "      <td>Taco Bell</td>\n",
              "      <td>37863</td>\n",
              "      <td>TN</td>\n",
              "      <td>4000</td>\n",
              "      <td>270</td>\n",
              "    </tr>\n",
              "  </tbody>\n",
              "</table>\n",
              "</div>"
            ],
            "text/plain": [
              "                                 dateAdded  ... Votes\n",
              "id                                          ...      \n",
              "AVwcmSyZIN2L1WUfmxyw  2015-10-19T23:47:58Z  ...   314\n",
              "AVwcmSyZIN2L1WUfmxyw  2015-10-19T23:47:58Z  ...   591\n",
              "AVwcopQoByjofQCxgfVa  2016-03-29T05:06:36Z  ...   270\n",
              "\n",
              "[3 rows x 10 columns]"
            ]
          },
          "metadata": {
            "tags": []
          },
          "execution_count": 10
        }
      ]
    },
    {
      "cell_type": "markdown",
      "metadata": {
        "id": "as81Kv94Ih_E",
        "colab_type": "text"
      },
      "source": [
        "#**Dropping rows**\n"
      ]
    },
    {
      "cell_type": "code",
      "metadata": {
        "id": "LUJB845EIm-f",
        "colab_type": "code",
        "outputId": "9194a174-2861-4b50-d0b9-3496966971d3",
        "colab": {
          "base_uri": "https://localhost:8080/",
          "height": 278
        }
      },
      "source": [
        "food1.drop(['AVwcmSyZIN2L1WUfmxyw','AVwcmSyZIN2L1WUfmxyw','AVwcopQoByjofQCxgfVa'], axis=0, inplace=True)  # axis = 0 for rows and axis=1 for columns\n",
        "\n",
        "food1.head(3)"
      ],
      "execution_count": 0,
      "outputs": [
        {
          "output_type": "execute_result",
          "data": {
            "text/html": [
              "<div>\n",
              "<style scoped>\n",
              "    .dataframe tbody tr th:only-of-type {\n",
              "        vertical-align: middle;\n",
              "    }\n",
              "\n",
              "    .dataframe tbody tr th {\n",
              "        vertical-align: top;\n",
              "    }\n",
              "\n",
              "    .dataframe thead th {\n",
              "        text-align: right;\n",
              "    }\n",
              "</style>\n",
              "<table border=\"1\" class=\"dataframe\">\n",
              "  <thead>\n",
              "    <tr style=\"text-align: right;\">\n",
              "      <th></th>\n",
              "      <th>dateAdded</th>\n",
              "      <th>dateUpdated</th>\n",
              "      <th>categories</th>\n",
              "      <th>city</th>\n",
              "      <th>country</th>\n",
              "      <th>name</th>\n",
              "      <th>postalCode</th>\n",
              "      <th>province</th>\n",
              "      <th>Average Cost for two</th>\n",
              "      <th>Votes</th>\n",
              "    </tr>\n",
              "    <tr>\n",
              "      <th>id</th>\n",
              "      <th></th>\n",
              "      <th></th>\n",
              "      <th></th>\n",
              "      <th></th>\n",
              "      <th></th>\n",
              "      <th></th>\n",
              "      <th></th>\n",
              "      <th></th>\n",
              "      <th></th>\n",
              "      <th></th>\n",
              "    </tr>\n",
              "  </thead>\n",
              "  <tbody>\n",
              "    <tr>\n",
              "      <th>AVweXN5RByjofQCxxilK</th>\n",
              "      <td>2017-01-03T07:46:11Z</td>\n",
              "      <td>2018-06-26T02:59:51Z</td>\n",
              "      <td>Fast Food</td>\n",
              "      <td>Pigeon Forge</td>\n",
              "      <td>US</td>\n",
              "      <td>Arby's</td>\n",
              "      <td>37863</td>\n",
              "      <td>TN</td>\n",
              "      <td>1500</td>\n",
              "      <td>365</td>\n",
              "    </tr>\n",
              "    <tr>\n",
              "      <th>AWQ6MUvo3-Khe5l_j3SG</th>\n",
              "      <td>2018-06-26T02:59:43Z</td>\n",
              "      <td>2018-06-26T02:59:43Z</td>\n",
              "      <td>Fast Food Restaurant</td>\n",
              "      <td>Morrow</td>\n",
              "      <td>US</td>\n",
              "      <td>Steak 'n Shake</td>\n",
              "      <td>30260</td>\n",
              "      <td>GA</td>\n",
              "      <td>1500</td>\n",
              "      <td>229</td>\n",
              "    </tr>\n",
              "    <tr>\n",
              "      <th>AVwc57jLkufWRAb50ROs</th>\n",
              "      <td>2015-10-23T23:59:49Z</td>\n",
              "      <td>2018-06-26T02:59:43Z</td>\n",
              "      <td>Fast Food Restaurant</td>\n",
              "      <td>Detroit</td>\n",
              "      <td>US</td>\n",
              "      <td>Wendy's</td>\n",
              "      <td>48204</td>\n",
              "      <td>MI</td>\n",
              "      <td>1000</td>\n",
              "      <td>336</td>\n",
              "    </tr>\n",
              "  </tbody>\n",
              "</table>\n",
              "</div>"
            ],
            "text/plain": [
              "                                 dateAdded  ... Votes\n",
              "id                                          ...      \n",
              "AVweXN5RByjofQCxxilK  2017-01-03T07:46:11Z  ...   365\n",
              "AWQ6MUvo3-Khe5l_j3SG  2018-06-26T02:59:43Z  ...   229\n",
              "AVwc57jLkufWRAb50ROs  2015-10-23T23:59:49Z  ...   336\n",
              "\n",
              "[3 rows x 10 columns]"
            ]
          },
          "metadata": {
            "tags": []
          },
          "execution_count": 11
        }
      ]
    },
    {
      "cell_type": "markdown",
      "metadata": {
        "id": "yjSfBDSnopfH",
        "colab_type": "text"
      },
      "source": [
        ""
      ]
    },
    {
      "cell_type": "markdown",
      "metadata": {
        "id": "TvZDj83KoB2N",
        "colab_type": "text"
      },
      "source": [
        "## **Summary statistics**\n",
        "- using the describe method"
      ]
    },
    {
      "cell_type": "code",
      "metadata": {
        "id": "5Wgq_LOkovgP",
        "colab_type": "code",
        "outputId": "e4802003-d7f0-4d1d-f54c-ed0b8617896c",
        "colab": {
          "base_uri": "https://localhost:8080/",
          "height": 297
        }
      },
      "source": [
        "food1.describe()"
      ],
      "execution_count": 0,
      "outputs": [
        {
          "output_type": "execute_result",
          "data": {
            "text/html": [
              "<div>\n",
              "<style scoped>\n",
              "    .dataframe tbody tr th:only-of-type {\n",
              "        vertical-align: middle;\n",
              "    }\n",
              "\n",
              "    .dataframe tbody tr th {\n",
              "        vertical-align: top;\n",
              "    }\n",
              "\n",
              "    .dataframe thead th {\n",
              "        text-align: right;\n",
              "    }\n",
              "</style>\n",
              "<table border=\"1\" class=\"dataframe\">\n",
              "  <thead>\n",
              "    <tr style=\"text-align: right;\">\n",
              "      <th></th>\n",
              "      <th>Average Cost for two</th>\n",
              "      <th>Votes</th>\n",
              "    </tr>\n",
              "  </thead>\n",
              "  <tbody>\n",
              "    <tr>\n",
              "      <th>count</th>\n",
              "      <td>19994.000000</td>\n",
              "      <td>19994.000000</td>\n",
              "    </tr>\n",
              "    <tr>\n",
              "      <th>mean</th>\n",
              "      <td>1158.416125</td>\n",
              "      <td>155.158348</td>\n",
              "    </tr>\n",
              "    <tr>\n",
              "      <th>std</th>\n",
              "      <td>15758.168119</td>\n",
              "      <td>422.629278</td>\n",
              "    </tr>\n",
              "    <tr>\n",
              "      <th>min</th>\n",
              "      <td>0.000000</td>\n",
              "      <td>0.000000</td>\n",
              "    </tr>\n",
              "    <tr>\n",
              "      <th>25%</th>\n",
              "      <td>250.000000</td>\n",
              "      <td>5.000000</td>\n",
              "    </tr>\n",
              "    <tr>\n",
              "      <th>50%</th>\n",
              "      <td>400.000000</td>\n",
              "      <td>30.000000</td>\n",
              "    </tr>\n",
              "    <tr>\n",
              "      <th>75%</th>\n",
              "      <td>650.000000</td>\n",
              "      <td>130.000000</td>\n",
              "    </tr>\n",
              "    <tr>\n",
              "      <th>max</th>\n",
              "      <td>800000.000000</td>\n",
              "      <td>10934.000000</td>\n",
              "    </tr>\n",
              "  </tbody>\n",
              "</table>\n",
              "</div>"
            ],
            "text/plain": [
              "       Average Cost for two         Votes\n",
              "count          19994.000000  19994.000000\n",
              "mean            1158.416125    155.158348\n",
              "std            15758.168119    422.629278\n",
              "min                0.000000      0.000000\n",
              "25%              250.000000      5.000000\n",
              "50%              400.000000     30.000000\n",
              "75%              650.000000    130.000000\n",
              "max           800000.000000  10934.000000"
            ]
          },
          "metadata": {
            "tags": []
          },
          "execution_count": 12
        }
      ]
    },
    {
      "cell_type": "markdown",
      "metadata": {
        "id": "c8lai1zFH9uO",
        "colab_type": "text"
      },
      "source": [
        "## **Frequency distribution**"
      ]
    },
    {
      "cell_type": "code",
      "metadata": {
        "id": "Z8S_0Z_hIBUs",
        "colab_type": "code",
        "outputId": "6599f9f8-e348-4d39-db73-fa55004a0ca4",
        "colab": {
          "base_uri": "https://localhost:8080/",
          "height": 221
        }
      },
      "source": [
        "food1['categories'].value_counts()"
      ],
      "execution_count": 0,
      "outputs": [
        {
          "output_type": "execute_result",
          "data": {
            "text/plain": [
              "Fast Food Restaurant                                                            6848\n",
              "Fast Food Restaurants                                                           6810\n",
              "Fast Food                                                                       3554\n",
              "Fast Food Restaurant and Burger Joint                                            520\n",
              "Fast food restaurants                                                            382\n",
              "                                                                                ... \n",
              "Fast Food Restaurant and American Restaurant Mexicantown - Southwest Detroit       2\n",
              "Fast Food Restaurant, Sandwich Place, and American Restaurant Camelback East       2\n",
              "Fast Food Restaurant and Burger Joint Allegheny West                               2\n",
              "Fast Food Restaurant North Philadelphia                                            2\n",
              "Fast Food Restaurant, Mexican Restaurant, and Taco Place South Side                2\n",
              "Name: categories, Length: 324, dtype: int64"
            ]
          },
          "metadata": {
            "tags": []
          },
          "execution_count": 13
        }
      ]
    },
    {
      "cell_type": "markdown",
      "metadata": {
        "id": "t26fGWT4J8OZ",
        "colab_type": "text"
      },
      "source": [
        ""
      ]
    },
    {
      "cell_type": "markdown",
      "metadata": {
        "id": "23zJy5h7F7qG",
        "colab_type": "text"
      },
      "source": [
        "## **loc (to subset data by Row/Column labels)**"
      ]
    },
    {
      "cell_type": "code",
      "metadata": {
        "id": "TqMQAXc9J_4R",
        "colab_type": "code",
        "outputId": "b4bf3919-bf66-4db4-874a-2be5621d194d",
        "colab": {
          "base_uri": "https://localhost:8080/",
          "height": 173
        }
      },
      "source": [
        "##Label based indexing make more sense for column subsetting\n",
        "#Select only venue and winner columns\n",
        "subset1 = food1.loc[:,['city','country']]\n",
        "subset1.head(3)"
      ],
      "execution_count": 0,
      "outputs": [
        {
          "output_type": "execute_result",
          "data": {
            "text/html": [
              "<div>\n",
              "<style scoped>\n",
              "    .dataframe tbody tr th:only-of-type {\n",
              "        vertical-align: middle;\n",
              "    }\n",
              "\n",
              "    .dataframe tbody tr th {\n",
              "        vertical-align: top;\n",
              "    }\n",
              "\n",
              "    .dataframe thead th {\n",
              "        text-align: right;\n",
              "    }\n",
              "</style>\n",
              "<table border=\"1\" class=\"dataframe\">\n",
              "  <thead>\n",
              "    <tr style=\"text-align: right;\">\n",
              "      <th></th>\n",
              "      <th>city</th>\n",
              "      <th>country</th>\n",
              "    </tr>\n",
              "    <tr>\n",
              "      <th>id</th>\n",
              "      <th></th>\n",
              "      <th></th>\n",
              "    </tr>\n",
              "  </thead>\n",
              "  <tbody>\n",
              "    <tr>\n",
              "      <th>AVweXN5RByjofQCxxilK</th>\n",
              "      <td>Pigeon Forge</td>\n",
              "      <td>US</td>\n",
              "    </tr>\n",
              "    <tr>\n",
              "      <th>AWQ6MUvo3-Khe5l_j3SG</th>\n",
              "      <td>Morrow</td>\n",
              "      <td>US</td>\n",
              "    </tr>\n",
              "    <tr>\n",
              "      <th>AVwc57jLkufWRAb50ROs</th>\n",
              "      <td>Detroit</td>\n",
              "      <td>US</td>\n",
              "    </tr>\n",
              "  </tbody>\n",
              "</table>\n",
              "</div>"
            ],
            "text/plain": [
              "                              city country\n",
              "id                                        \n",
              "AVweXN5RByjofQCxxilK  Pigeon Forge      US\n",
              "AWQ6MUvo3-Khe5l_j3SG        Morrow      US\n",
              "AVwc57jLkufWRAb50ROs       Detroit      US"
            ]
          },
          "metadata": {
            "tags": []
          },
          "execution_count": 14
        }
      ]
    },
    {
      "cell_type": "code",
      "metadata": {
        "id": "ZuML-vXKKV_6",
        "colab_type": "code",
        "outputId": "443db448-1d29-4210-ce1a-74ed4c87fd23",
        "colab": {
          "base_uri": "https://localhost:8080/",
          "height": 173
        }
      },
      "source": [
        "## For loc based subsetting using row and column indexer together is rare.\n",
        "subset2 = food1.loc[['AVweXN5RByjofQCxxilK','AWQ6MUvo3-Khe5l_j3SG'],['city','country']]\n",
        "subset2.head(3)"
      ],
      "execution_count": 0,
      "outputs": [
        {
          "output_type": "execute_result",
          "data": {
            "text/html": [
              "<div>\n",
              "<style scoped>\n",
              "    .dataframe tbody tr th:only-of-type {\n",
              "        vertical-align: middle;\n",
              "    }\n",
              "\n",
              "    .dataframe tbody tr th {\n",
              "        vertical-align: top;\n",
              "    }\n",
              "\n",
              "    .dataframe thead th {\n",
              "        text-align: right;\n",
              "    }\n",
              "</style>\n",
              "<table border=\"1\" class=\"dataframe\">\n",
              "  <thead>\n",
              "    <tr style=\"text-align: right;\">\n",
              "      <th></th>\n",
              "      <th>city</th>\n",
              "      <th>country</th>\n",
              "    </tr>\n",
              "    <tr>\n",
              "      <th>id</th>\n",
              "      <th></th>\n",
              "      <th></th>\n",
              "    </tr>\n",
              "  </thead>\n",
              "  <tbody>\n",
              "    <tr>\n",
              "      <th>AVweXN5RByjofQCxxilK</th>\n",
              "      <td>Pigeon Forge</td>\n",
              "      <td>US</td>\n",
              "    </tr>\n",
              "    <tr>\n",
              "      <th>AVweXN5RByjofQCxxilK</th>\n",
              "      <td>Pigeon Forge</td>\n",
              "      <td>US</td>\n",
              "    </tr>\n",
              "    <tr>\n",
              "      <th>AWQ6MUvo3-Khe5l_j3SG</th>\n",
              "      <td>Morrow</td>\n",
              "      <td>US</td>\n",
              "    </tr>\n",
              "  </tbody>\n",
              "</table>\n",
              "</div>"
            ],
            "text/plain": [
              "                              city country\n",
              "id                                        \n",
              "AVweXN5RByjofQCxxilK  Pigeon Forge      US\n",
              "AVweXN5RByjofQCxxilK  Pigeon Forge      US\n",
              "AWQ6MUvo3-Khe5l_j3SG        Morrow      US"
            ]
          },
          "metadata": {
            "tags": []
          },
          "execution_count": 15
        }
      ]
    },
    {
      "cell_type": "markdown",
      "metadata": {
        "id": "KU2vHZbFF7qT",
        "colab_type": "text"
      },
      "source": [
        "## **iloc    (to subset data based on Row/Column number)**"
      ]
    },
    {
      "cell_type": "code",
      "metadata": {
        "id": "PCjzXkcGLGYi",
        "colab_type": "code",
        "outputId": "304b6f6b-65d3-40ca-a56e-bb14fa96dfef",
        "colab": {
          "base_uri": "https://localhost:8080/",
          "height": 173
        }
      },
      "source": [
        "## Numeric based indexing usually makes sense for row subsetting \n",
        "food1.iloc[50:53,1:5]"
      ],
      "execution_count": 0,
      "outputs": [
        {
          "output_type": "execute_result",
          "data": {
            "text/html": [
              "<div>\n",
              "<style scoped>\n",
              "    .dataframe tbody tr th:only-of-type {\n",
              "        vertical-align: middle;\n",
              "    }\n",
              "\n",
              "    .dataframe tbody tr th {\n",
              "        vertical-align: top;\n",
              "    }\n",
              "\n",
              "    .dataframe thead th {\n",
              "        text-align: right;\n",
              "    }\n",
              "</style>\n",
              "<table border=\"1\" class=\"dataframe\">\n",
              "  <thead>\n",
              "    <tr style=\"text-align: right;\">\n",
              "      <th></th>\n",
              "      <th>dateUpdated</th>\n",
              "      <th>categories</th>\n",
              "      <th>city</th>\n",
              "      <th>country</th>\n",
              "    </tr>\n",
              "    <tr>\n",
              "      <th>id</th>\n",
              "      <th></th>\n",
              "      <th></th>\n",
              "      <th></th>\n",
              "      <th></th>\n",
              "    </tr>\n",
              "  </thead>\n",
              "  <tbody>\n",
              "    <tr>\n",
              "      <th>AVwdZcGEkufWRAb55egc</th>\n",
              "      <td>2018-06-25T09:28:10Z</td>\n",
              "      <td>Fast Food Restaurant and Mexican Restaurant</td>\n",
              "      <td>Wylie</td>\n",
              "      <td>US</td>\n",
              "    </tr>\n",
              "    <tr>\n",
              "      <th>AVwdDkuikufWRAb5118z</th>\n",
              "      <td>2018-06-25T09:28:08Z</td>\n",
              "      <td>Fast Food Restaurant</td>\n",
              "      <td>Tyler</td>\n",
              "      <td>US</td>\n",
              "    </tr>\n",
              "    <tr>\n",
              "      <th>AV0aJ-e7-gnIPe8DVwr6</th>\n",
              "      <td>2018-06-25T09:27:52Z</td>\n",
              "      <td>Fast Food Restaurants</td>\n",
              "      <td>Columbia</td>\n",
              "      <td>US</td>\n",
              "    </tr>\n",
              "  </tbody>\n",
              "</table>\n",
              "</div>"
            ],
            "text/plain": [
              "                               dateUpdated  ... country\n",
              "id                                          ...        \n",
              "AVwdZcGEkufWRAb55egc  2018-06-25T09:28:10Z  ...      US\n",
              "AVwdDkuikufWRAb5118z  2018-06-25T09:28:08Z  ...      US\n",
              "AV0aJ-e7-gnIPe8DVwr6  2018-06-25T09:27:52Z  ...      US\n",
              "\n",
              "[3 rows x 4 columns]"
            ]
          },
          "metadata": {
            "tags": []
          },
          "execution_count": 16
        }
      ]
    },
    {
      "cell_type": "markdown",
      "metadata": {
        "id": "izBbvwxbLP2c",
        "colab_type": "text"
      },
      "source": [
        ""
      ]
    },
    {
      "cell_type": "markdown",
      "metadata": {
        "id": "yWjW8u1zF7qf",
        "colab_type": "text"
      },
      "source": [
        "## **Boolean indexing (to subset based on value in each cell of the column )**\n",
        "**Here we subsetting the data where the cell value in \"City\" column is equal to \"Hyderabad\"**"
      ]
    },
    {
      "cell_type": "code",
      "metadata": {
        "id": "TLlSHcNRLOoS",
        "colab_type": "code",
        "outputId": "9218454f-93cc-499f-a511-f84a410c995f",
        "colab": {
          "base_uri": "https://localhost:8080/",
          "height": 295
        }
      },
      "source": [
        "subset3 = food1.loc[food1['city']=='New York',:]\n",
        "subset3.head(3)"
      ],
      "execution_count": 0,
      "outputs": [
        {
          "output_type": "execute_result",
          "data": {
            "text/html": [
              "<div>\n",
              "<style scoped>\n",
              "    .dataframe tbody tr th:only-of-type {\n",
              "        vertical-align: middle;\n",
              "    }\n",
              "\n",
              "    .dataframe tbody tr th {\n",
              "        vertical-align: top;\n",
              "    }\n",
              "\n",
              "    .dataframe thead th {\n",
              "        text-align: right;\n",
              "    }\n",
              "</style>\n",
              "<table border=\"1\" class=\"dataframe\">\n",
              "  <thead>\n",
              "    <tr style=\"text-align: right;\">\n",
              "      <th></th>\n",
              "      <th>dateAdded</th>\n",
              "      <th>dateUpdated</th>\n",
              "      <th>categories</th>\n",
              "      <th>city</th>\n",
              "      <th>country</th>\n",
              "      <th>name</th>\n",
              "      <th>postalCode</th>\n",
              "      <th>province</th>\n",
              "      <th>Average Cost for two</th>\n",
              "      <th>Votes</th>\n",
              "    </tr>\n",
              "    <tr>\n",
              "      <th>id</th>\n",
              "      <th></th>\n",
              "      <th></th>\n",
              "      <th></th>\n",
              "      <th></th>\n",
              "      <th></th>\n",
              "      <th></th>\n",
              "      <th></th>\n",
              "      <th></th>\n",
              "      <th></th>\n",
              "      <th></th>\n",
              "    </tr>\n",
              "  </thead>\n",
              "  <tbody>\n",
              "    <tr>\n",
              "      <th>AVzA1QA5-gnIPe8DScbz</th>\n",
              "      <td>2017-06-19T14:50:03Z</td>\n",
              "      <td>2018-06-25T09:29:44Z</td>\n",
              "      <td>Fast Food Restaurant</td>\n",
              "      <td>New York</td>\n",
              "      <td>US</td>\n",
              "      <td>McDonald's</td>\n",
              "      <td>10036</td>\n",
              "      <td>NY</td>\n",
              "      <td>80</td>\n",
              "      <td>10</td>\n",
              "    </tr>\n",
              "    <tr>\n",
              "      <th>AVzA2BSFFcQ3k02bBX5D</th>\n",
              "      <td>2017-06-19T14:53:25Z</td>\n",
              "      <td>2018-06-25T09:29:43Z</td>\n",
              "      <td>Fast Food Restaurant</td>\n",
              "      <td>New York</td>\n",
              "      <td>US</td>\n",
              "      <td>McDonald's</td>\n",
              "      <td>10002</td>\n",
              "      <td>NY</td>\n",
              "      <td>90</td>\n",
              "      <td>8</td>\n",
              "    </tr>\n",
              "    <tr>\n",
              "      <th>AV1Tr--kLD2H7whiaMSJ</th>\n",
              "      <td>2017-07-18T03:13:45Z</td>\n",
              "      <td>2018-06-19T02:13:09Z</td>\n",
              "      <td>Fast Food Restaurants</td>\n",
              "      <td>New York</td>\n",
              "      <td>US</td>\n",
              "      <td>Crown Fried Chicken</td>\n",
              "      <td>10031</td>\n",
              "      <td>NY</td>\n",
              "      <td>1250</td>\n",
              "      <td>166</td>\n",
              "    </tr>\n",
              "  </tbody>\n",
              "</table>\n",
              "</div>"
            ],
            "text/plain": [
              "                                 dateAdded  ... Votes\n",
              "id                                          ...      \n",
              "AVzA1QA5-gnIPe8DScbz  2017-06-19T14:50:03Z  ...    10\n",
              "AVzA2BSFFcQ3k02bBX5D  2017-06-19T14:53:25Z  ...     8\n",
              "AV1Tr--kLD2H7whiaMSJ  2017-07-18T03:13:45Z  ...   166\n",
              "\n",
              "[3 rows x 10 columns]"
            ]
          },
          "metadata": {
            "tags": []
          },
          "execution_count": 17
        }
      ]
    },
    {
      "cell_type": "markdown",
      "metadata": {
        "id": "c-4epIVRPVuj",
        "colab_type": "text"
      },
      "source": [
        "## **Replace specific values**"
      ]
    },
    {
      "cell_type": "code",
      "metadata": {
        "id": "RTd27-8LPdoF",
        "colab_type": "code",
        "outputId": "acb40618-2725-49ed-d11e-376cc2f06635",
        "colab": {
          "base_uri": "https://localhost:8080/",
          "height": 51
        }
      },
      "source": [
        "food1['country'].value_counts()"
      ],
      "execution_count": 0,
      "outputs": [
        {
          "output_type": "execute_result",
          "data": {
            "text/plain": [
              "US    19994\n",
              "Name: country, dtype: int64"
            ]
          },
          "metadata": {
            "tags": []
          },
          "execution_count": 18
        }
      ]
    },
    {
      "cell_type": "code",
      "metadata": {
        "id": "D8wSopG0PhFz",
        "colab_type": "code",
        "outputId": "cd9b7c51-6518-482f-d8af-455b98451655",
        "colab": {
          "base_uri": "https://localhost:8080/",
          "height": 51
        }
      },
      "source": [
        "# Lets replace DC with SRH\n",
        "food1_updated=food1.replace({'US':'INDIA'}, inplace=False)\n",
        "\n",
        "food1_updated['country'].value_counts()"
      ],
      "execution_count": 0,
      "outputs": [
        {
          "output_type": "execute_result",
          "data": {
            "text/plain": [
              "INDIA    19994\n",
              "Name: country, dtype: int64"
            ]
          },
          "metadata": {
            "tags": []
          },
          "execution_count": 19
        }
      ]
    },
    {
      "cell_type": "markdown",
      "metadata": {
        "id": "GUssCwDGP4Y9",
        "colab_type": "text"
      },
      "source": [
        "## **Activity**"
      ]
    },
    {
      "cell_type": "code",
      "metadata": {
        "id": "ihkGKXboP7Qm",
        "colab_type": "code",
        "outputId": "ac8ccbaf-b81e-4175-a984-8faa0a81386c",
        "colab": {
          "base_uri": "https://localhost:8080/",
          "height": 142
        }
      },
      "source": [
        "food1.loc[food1['dateAdded']=='2016-03-23T04:12:21Z',:].loc[:,['country']]"
      ],
      "execution_count": 0,
      "outputs": [
        {
          "output_type": "execute_result",
          "data": {
            "text/html": [
              "<div>\n",
              "<style scoped>\n",
              "    .dataframe tbody tr th:only-of-type {\n",
              "        vertical-align: middle;\n",
              "    }\n",
              "\n",
              "    .dataframe tbody tr th {\n",
              "        vertical-align: top;\n",
              "    }\n",
              "\n",
              "    .dataframe thead th {\n",
              "        text-align: right;\n",
              "    }\n",
              "</style>\n",
              "<table border=\"1\" class=\"dataframe\">\n",
              "  <thead>\n",
              "    <tr style=\"text-align: right;\">\n",
              "      <th></th>\n",
              "      <th>country</th>\n",
              "    </tr>\n",
              "    <tr>\n",
              "      <th>id</th>\n",
              "      <th></th>\n",
              "    </tr>\n",
              "  </thead>\n",
              "  <tbody>\n",
              "    <tr>\n",
              "      <th>AVwdtkXOkufWRAb58kPz</th>\n",
              "      <td>US</td>\n",
              "    </tr>\n",
              "    <tr>\n",
              "      <th>AVwdtkXOkufWRAb58kPz</th>\n",
              "      <td>US</td>\n",
              "    </tr>\n",
              "  </tbody>\n",
              "</table>\n",
              "</div>"
            ],
            "text/plain": [
              "                     country\n",
              "id                          \n",
              "AVwdtkXOkufWRAb58kPz      US\n",
              "AVwdtkXOkufWRAb58kPz      US"
            ]
          },
          "metadata": {
            "tags": []
          },
          "execution_count": 20
        }
      ]
    },
    {
      "cell_type": "markdown",
      "metadata": {
        "id": "pQyck2s5QRoA",
        "colab_type": "text"
      },
      "source": [
        "## **BOX PLOT**"
      ]
    },
    {
      "cell_type": "code",
      "metadata": {
        "id": "mryIP6kNQX1R",
        "colab_type": "code",
        "outputId": "341df83e-d8aa-4a43-f445-72dd4cd18744",
        "colab": {
          "base_uri": "https://localhost:8080/",
          "height": 282
        }
      },
      "source": [
        "food1.plot(x='country',y='Votes',kind='box')"
      ],
      "execution_count": 0,
      "outputs": [
        {
          "output_type": "execute_result",
          "data": {
            "text/plain": [
              "<matplotlib.axes._subplots.AxesSubplot at 0x7ff33c8d5320>"
            ]
          },
          "metadata": {
            "tags": []
          },
          "execution_count": 21
        },
        {
          "output_type": "display_data",
          "data": {
            "image/png": "[encoded data removed]",
            "text/plain": [
              "<Figure size 432x288 with 1 Axes>"
            ]
          },
          "metadata": {
            "tags": []
          }
        }
      ]
    },
    {
      "cell_type": "markdown",
      "metadata": {
        "id": "Au-UPYDRX4WV",
        "colab_type": "text"
      },
      "source": [
        "# **SCATTER** **PLOT**"
      ]
    },
    {
      "cell_type": "code",
      "metadata": {
        "id": "5mP6FTarYOe3",
        "colab_type": "code",
        "outputId": "0dcce941-91bb-49ca-ae1a-06daaa1efa52",
        "colab": {
          "base_uri": "https://localhost:8080/",
          "height": 296
        }
      },
      "source": [
        "food1.plot(x='Average Cost for two',y='Votes',kind='scatter')"
      ],
      "execution_count": 0,
      "outputs": [
        {
          "output_type": "execute_result",
          "data": {
            "text/plain": [
              "<matplotlib.axes._subplots.AxesSubplot at 0x7ff33c3bf240>"
            ]
          },
          "metadata": {
            "tags": []
          },
          "execution_count": 22
        },
        {
          "output_type": "display_data",
          "data": {
            "image/png": "[encoded data removed]",
            "text/plain": [
              "<Figure size 432x288 with 1 Axes>"
            ]
          },
          "metadata": {
            "tags": []
          }
        }
      ]
    },
    {
      "cell_type": "markdown",
      "metadata": {
        "id": "-6hx1fqZlKo1",
        "colab_type": "text"
      },
      "source": [
        "#**Histogram chart**"
      ]
    },
    {
      "cell_type": "code",
      "metadata": {
        "id": "5X5cLmqTmDuf",
        "colab_type": "code",
        "outputId": "199758b3-be92-45b3-cd32-8401b01c0507",
        "colab": {
          "base_uri": "https://localhost:8080/",
          "height": 282
        }
      },
      "source": [
        "food1.plot(x=\"country\",y=\"Average Cost for two\",kind=\"hist\")"
      ],
      "execution_count": 0,
      "outputs": [
        {
          "output_type": "execute_result",
          "data": {
            "text/plain": [
              "<matplotlib.axes._subplots.AxesSubplot at 0x7ff339b522b0>"
            ]
          },
          "metadata": {
            "tags": []
          },
          "execution_count": 23
        },
        {
          "output_type": "display_data",
          "data": {
            "image/png": "[encoded data removed]",
            "text/plain": [
              "<Figure size 432x288 with 1 Axes>"
            ]
          },
          "metadata": {
            "tags": []
          }
        }
      ]
    },
    {
      "cell_type": "markdown",
      "metadata": {
        "id": "UT4pzFbTsSJb",
        "colab_type": "text"
      },
      "source": [
        "#**Central Tendency**"
      ]
    },
    {
      "cell_type": "code",
      "metadata": {
        "id": "SOa-X1s_sedf",
        "colab_type": "code",
        "outputId": "142f4d91-e6bc-48a2-d366-fe375bc26039",
        "colab": {
          "base_uri": "https://localhost:8080/",
          "height": 68
        }
      },
      "source": [
        "food1.mean()"
      ],
      "execution_count": 0,
      "outputs": [
        {
          "output_type": "execute_result",
          "data": {
            "text/plain": [
              "Average Cost for two    1158.416125\n",
              "Votes                    155.158348\n",
              "dtype: float64"
            ]
          },
          "metadata": {
            "tags": []
          },
          "execution_count": 24
        }
      ]
    },
    {
      "cell_type": "code",
      "metadata": {
        "id": "w43weeO3siUF",
        "colab_type": "code",
        "outputId": "e29380cf-9daa-4203-b036-662da900bdf8",
        "colab": {
          "base_uri": "https://localhost:8080/",
          "height": 68
        }
      },
      "source": [
        "food1.median()"
      ],
      "execution_count": 0,
      "outputs": [
        {
          "output_type": "execute_result",
          "data": {
            "text/plain": [
              "Average Cost for two    400.0\n",
              "Votes                    30.0\n",
              "dtype: float64"
            ]
          },
          "metadata": {
            "tags": []
          },
          "execution_count": 25
        }
      ]
    },
    {
      "cell_type": "markdown",
      "metadata": {
        "id": "o4Do9Ld8Ifet",
        "colab_type": "text"
      },
      "source": [
        ""
      ]
    },
    {
      "cell_type": "code",
      "metadata": {
        "id": "lL5nbzIEsoVX",
        "colab_type": "code",
        "outputId": "cc4bb8e4-6785-4d15-defc-ce43d2b9a6ba",
        "colab": {
          "base_uri": "https://localhost:8080/",
          "height": 131
        }
      },
      "source": [
        "food1.mode()"
      ],
      "execution_count": 0,
      "outputs": [
        {
          "output_type": "execute_result",
          "data": {
            "text/html": [
              "<div>\n",
              "<style scoped>\n",
              "    .dataframe tbody tr th:only-of-type {\n",
              "        vertical-align: middle;\n",
              "    }\n",
              "\n",
              "    .dataframe tbody tr th {\n",
              "        vertical-align: top;\n",
              "    }\n",
              "\n",
              "    .dataframe thead th {\n",
              "        text-align: right;\n",
              "    }\n",
              "</style>\n",
              "<table border=\"1\" class=\"dataframe\">\n",
              "  <thead>\n",
              "    <tr style=\"text-align: right;\">\n",
              "      <th></th>\n",
              "      <th>dateAdded</th>\n",
              "      <th>dateUpdated</th>\n",
              "      <th>categories</th>\n",
              "      <th>city</th>\n",
              "      <th>country</th>\n",
              "      <th>name</th>\n",
              "      <th>postalCode</th>\n",
              "      <th>province</th>\n",
              "      <th>Average Cost for two</th>\n",
              "      <th>Votes</th>\n",
              "    </tr>\n",
              "  </thead>\n",
              "  <tbody>\n",
              "    <tr>\n",
              "      <th>0</th>\n",
              "      <td>2017-06-19T14:48:37Z</td>\n",
              "      <td>2018-06-19T09:42:27Z</td>\n",
              "      <td>Fast Food Restaurant</td>\n",
              "      <td>Houston</td>\n",
              "      <td>US</td>\n",
              "      <td>McDonald's</td>\n",
              "      <td>78209</td>\n",
              "      <td>CA</td>\n",
              "      <td>300</td>\n",
              "      <td>0</td>\n",
              "    </tr>\n",
              "  </tbody>\n",
              "</table>\n",
              "</div>"
            ],
            "text/plain": [
              "              dateAdded           dateUpdated  ... Average Cost for two Votes\n",
              "0  2017-06-19T14:48:37Z  2018-06-19T09:42:27Z  ...                  300     0\n",
              "\n",
              "[1 rows x 10 columns]"
            ]
          },
          "metadata": {
            "tags": []
          },
          "execution_count": 26
        }
      ]
    },
    {
      "cell_type": "markdown",
      "metadata": {
        "id": "2sZrw7PN6zMP",
        "colab_type": "text"
      },
      "source": [
        "# **Conclusion**\n",
        "\n",
        "# From the above data analysation and visualisation we can say that:\n",
        "# **The Box plot represents the no.of votes voted by the people of a country who liked the food at a restaurant**\n",
        "# **The scatter plot is the graph representing thye average cost for 2 persons to the no.of votes made by the people**\n",
        "# **Histogram plotting shows relation between a country and rthe average cost for 2 persons**\n",
        "# **Central tendency shows the mean,median and mode of the give dataset**"
      ]
    },
    {
      "cell_type": "markdown",
      "metadata": {
        "id": "vMHtxX_19u4P",
        "colab_type": "text"
      },
      "source": [
        "# <center>**THE END**</center>"
      ]
    }
  ]
}